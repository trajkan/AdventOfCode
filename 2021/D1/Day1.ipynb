{
 "cells": [
  {
   "cell_type": "markdown",
   "id": "gothic-anthropology",
   "metadata": {
    "ExecuteTime": {
     "end_time": "2021-12-03T15:38:31.090003Z",
     "start_time": "2021-12-03T15:38:31.073635Z"
    }
   },
   "source": [
    "# Day 1: Sonar Sweep"
   ]
  },
  {
   "cell_type": "code",
   "execution_count": 8,
   "id": "velvet-trigger",
   "metadata": {
    "ExecuteTime": {
     "end_time": "2021-12-03T15:39:29.985524Z",
     "start_time": "2021-12-03T15:39:29.971417Z"
    }
   },
   "outputs": [],
   "source": [
    "import numpy as np"
   ]
  },
  {
   "cell_type": "markdown",
   "id": "attractive-treasury",
   "metadata": {},
   "source": [
    "## Part 1"
   ]
  },
  {
   "cell_type": "code",
   "execution_count": 7,
   "id": "conventional-semiconductor",
   "metadata": {
    "ExecuteTime": {
     "end_time": "2021-12-03T15:39:20.312887Z",
     "start_time": "2021-12-03T15:39:20.292276Z"
    }
   },
   "outputs": [
    {
     "name": "stdout",
     "output_type": "stream",
     "text": [
      "1624\n"
     ]
    }
   ],
   "source": [
    "data = np.loadtxt('input.txt')\n",
    "diff = np.diff(data)\n",
    "increasing_nbr = len(diff[diff > 0] )\n",
    "print(increasing_nbr)"
   ]
  },
  {
   "cell_type": "markdown",
   "id": "roman-sample",
   "metadata": {},
   "source": [
    "## Part 2"
   ]
  },
  {
   "cell_type": "code",
   "execution_count": 32,
   "id": "appreciated-carolina",
   "metadata": {
    "ExecuteTime": {
     "end_time": "2021-12-03T15:50:02.019208Z",
     "start_time": "2021-12-03T15:50:01.993514Z"
    }
   },
   "outputs": [
    {
     "name": "stdout",
     "output_type": "stream",
     "text": [
      "2000\n",
      "1653\n"
     ]
    }
   ],
   "source": [
    "n = len(data)\n",
    "print(n)\n",
    "i = 0\n",
    "y = 0\n",
    "diff = []\n",
    "for i in range(n):\n",
    "    if y>(n-3):\n",
    "        break\n",
    "    sum1 = data[i:i+3].sum()\n",
    "    sum2 = data[i+1:i+4].sum()\n",
    "    if (sum2 > sum1):\n",
    "        diff.append(1)\n",
    "    else:\n",
    "        diff.append(-1)\n",
    "    y += 1\n",
    "diff = np.array(diff)\n",
    "print(len(diff[diff>0]))"
   ]
  },
  {
   "cell_type": "code",
   "execution_count": null,
   "id": "touched-delhi",
   "metadata": {},
   "outputs": [],
   "source": []
  }
 ],
 "metadata": {
  "kernelspec": {
   "display_name": "Python 3",
   "language": "python",
   "name": "python3"
  },
  "language_info": {
   "codemirror_mode": {
    "name": "ipython",
    "version": 3
   },
   "file_extension": ".py",
   "mimetype": "text/x-python",
   "name": "python",
   "nbconvert_exporter": "python",
   "pygments_lexer": "ipython3",
   "version": "3.9.0"
  },
  "toc": {
   "base_numbering": 1,
   "nav_menu": {},
   "number_sections": true,
   "sideBar": true,
   "skip_h1_title": false,
   "title_cell": "Table of Contents",
   "title_sidebar": "Contents",
   "toc_cell": false,
   "toc_position": {},
   "toc_section_display": true,
   "toc_window_display": false
  },
  "varInspector": {
   "cols": {
    "lenName": 16,
    "lenType": 16,
    "lenVar": 40
   },
   "kernels_config": {
    "python": {
     "delete_cmd_postfix": "",
     "delete_cmd_prefix": "del ",
     "library": "var_list.py",
     "varRefreshCmd": "print(var_dic_list())"
    },
    "r": {
     "delete_cmd_postfix": ") ",
     "delete_cmd_prefix": "rm(",
     "library": "var_list.r",
     "varRefreshCmd": "cat(var_dic_list()) "
    }
   },
   "types_to_exclude": [
    "module",
    "function",
    "builtin_function_or_method",
    "instance",
    "_Feature"
   ],
   "window_display": false
  }
 },
 "nbformat": 4,
 "nbformat_minor": 5
}
