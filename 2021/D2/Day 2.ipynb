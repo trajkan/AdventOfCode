{
 "cells": [
  {
   "cell_type": "markdown",
   "id": "whole-nepal",
   "metadata": {},
   "source": [
    "# Day 2: Dive!"
   ]
  },
  {
   "cell_type": "code",
   "execution_count": 1,
   "id": "joined-pollution",
   "metadata": {
    "ExecuteTime": {
     "end_time": "2021-12-04T13:37:45.464257Z",
     "start_time": "2021-12-04T13:37:45.454286Z"
    }
   },
   "outputs": [],
   "source": [
    "import numpy as np"
   ]
  },
  {
   "cell_type": "markdown",
   "id": "resistant-nomination",
   "metadata": {},
   "source": [
    "## Part 1"
   ]
  },
  {
   "cell_type": "code",
   "execution_count": 49,
   "id": "absolute-sweden",
   "metadata": {
    "ExecuteTime": {
     "end_time": "2021-12-04T14:16:01.690752Z",
     "start_time": "2021-12-04T14:16:01.678805Z"
    }
   },
   "outputs": [],
   "source": [
    "data = np.loadtxt('input.txt', dtype=str)"
   ]
  },
  {
   "cell_type": "code",
   "execution_count": 38,
   "id": "minimal-tribune",
   "metadata": {
    "ExecuteTime": {
     "end_time": "2021-12-04T14:01:11.200210Z",
     "start_time": "2021-12-04T14:01:11.187278Z"
    }
   },
   "outputs": [
    {
     "name": "stdout",
     "output_type": "stream",
     "text": [
      "horizontal position: 1823\n",
      "Depth: 1018\n",
      "Multiple: 1855814\n"
     ]
    }
   ],
   "source": [
    "horiz_pos = 0\n",
    "depth = 0\n",
    "for item in data:\n",
    "    if item[0] == 'forward':\n",
    "        horiz_pos += int(item[1])\n",
    "    elif item[0] == 'down':\n",
    "        depth += int(item[1])\n",
    "    elif item[0] == 'up':\n",
    "        depth -= int(item[1])\n",
    "print('horizontal position: ' + str(horiz_pos))\n",
    "print('Depth: ' + str(depth))\n",
    "multip = depth * horiz_pos\n",
    "print('Multiple: ' + str(multip))"
   ]
  },
  {
   "cell_type": "markdown",
   "id": "african-bermuda",
   "metadata": {},
   "source": [
    "## Part 2"
   ]
  },
  {
   "cell_type": "code",
   "execution_count": 50,
   "id": "classical-clinic",
   "metadata": {
    "ExecuteTime": {
     "end_time": "2021-12-04T14:16:03.563571Z",
     "start_time": "2021-12-04T14:16:03.546585Z"
    }
   },
   "outputs": [
    {
     "name": "stdout",
     "output_type": "stream",
     "text": [
      "horizontal position: 1823\n",
      "Depth: 1012318\n",
      "Multiple: 1845455714\n"
     ]
    }
   ],
   "source": [
    "horiz_pos = 0\n",
    "depth = 0\n",
    "aim = 0\n",
    "for item in data:\n",
    "    if item[0] == 'forward':\n",
    "        horiz_pos += int(item[1])\n",
    "        depth += int(item[1]) *  aim \n",
    "    elif item[0] == 'down':\n",
    "        aim += int(item[1])\n",
    "    elif item[0] == 'up':\n",
    "        aim -= int(item[1])\n",
    "print('horizontal position: ' + str(horiz_pos))\n",
    "print('Depth: ' + str(depth))\n",
    "multip = depth * horiz_pos\n",
    "print('Multiple: ' + str(multip))"
   ]
  }
 ],
 "metadata": {
  "kernelspec": {
   "display_name": "Python 3",
   "language": "python",
   "name": "python3"
  },
  "language_info": {
   "codemirror_mode": {
    "name": "ipython",
    "version": 3
   },
   "file_extension": ".py",
   "mimetype": "text/x-python",
   "name": "python",
   "nbconvert_exporter": "python",
   "pygments_lexer": "ipython3",
   "version": "3.9.0"
  },
  "toc": {
   "base_numbering": 1,
   "nav_menu": {},
   "number_sections": true,
   "sideBar": true,
   "skip_h1_title": false,
   "title_cell": "Table of Contents",
   "title_sidebar": "Contents",
   "toc_cell": false,
   "toc_position": {},
   "toc_section_display": true,
   "toc_window_display": false
  },
  "varInspector": {
   "cols": {
    "lenName": 16,
    "lenType": 16,
    "lenVar": 40
   },
   "kernels_config": {
    "python": {
     "delete_cmd_postfix": "",
     "delete_cmd_prefix": "del ",
     "library": "var_list.py",
     "varRefreshCmd": "print(var_dic_list())"
    },
    "r": {
     "delete_cmd_postfix": ") ",
     "delete_cmd_prefix": "rm(",
     "library": "var_list.r",
     "varRefreshCmd": "cat(var_dic_list()) "
    }
   },
   "types_to_exclude": [
    "module",
    "function",
    "builtin_function_or_method",
    "instance",
    "_Feature"
   ],
   "window_display": false
  }
 },
 "nbformat": 4,
 "nbformat_minor": 5
}
